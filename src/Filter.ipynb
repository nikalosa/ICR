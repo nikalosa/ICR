{
 "cells": [
  {
   "cell_type": "markdown",
   "metadata": {},
   "source": [
    "# CNN Filter Class\n"
   ]
  },
  {
   "cell_type": "code",
   "execution_count": 3,
   "metadata": {},
   "outputs": [],
   "source": [
    "import numpy as np\n",
    "\n",
    "class Filter:\n",
    "    def __init__(self, filterM):\n",
    "        self.filter = np.array(filterM)\n",
    "        self.n = self.filter.shape[0]\n",
    "        self.m = self.filter.shape[1]\n",
    "        \n",
    "        print(self.filter)\n",
    "        \n",
    "    def get_filter(self):\n",
    "        return self.filter\n",
    "    \n",
    "    def add_delta(self, delta):\n",
    "        self.filter += delta\n",
    "\n",
    "    def set(self, i, j, val):\n",
    "        self.filter[i][j] = val\n",
    "\n",
    "    def get(self, i, j):\n",
    "        return self.filter[i][j]\n",
    "\n",
    "    def go_filter(self, data):\n",
    "        resultdata = np.zeros((data.shape[0] - self.n + 1, data.shape[1] - self.m + 1))\n",
    "        for i in range(data.shape[0] - self.n + 1):\n",
    "            for j in range(data.shape[1] - self.m + 1):\n",
    "                resultdata[i][j] = np.sum(self.filter * data[i:i+self.n,j:j+self.m])\n",
    "        return resultdata\n",
    "    \n",
    "    def go_maxpool(self, data, n, m):\n",
    "        \n",
    "        resultdata = np.zeros((int(data.shape[0] / n) , int(data.shape[1] / m)))\n",
    "        for i in range(0, data.shape[0], n):\n",
    "            for j in range(0, data.shape[1], m):\n",
    "                print(i,j)\n",
    "                resultdata[int(i/n)][int(j/m)] = np.max(data[i:i+n, j:j+m])\n",
    "                \n",
    "        return resultdata\n"
   ]
  },
  {
   "cell_type": "markdown",
   "metadata": {},
   "source": [
    "# CNN Layer Class"
   ]
  },
  {
   "cell_type": "code",
   "execution_count": 19,
   "metadata": {},
   "outputs": [],
   "source": [
    "\n",
    "class Layer:\n",
    "    def __init__(self, filters):\n",
    "        self.filters = filters\n",
    "        self.matrixes = np.empty((0,0,0))\n",
    "        \n",
    "    def get_matrix(self, i):\n",
    "        return self.matrix[i]\n",
    "    \n",
    "    def get_matrixes(self):\n",
    "        return self.matrixes\n",
    "        \n",
    "    def gen_matrixes(self, preMatrixes):\n",
    "        matList = []\n",
    "        for filt in self.filters:\n",
    "            for i in range(preMatrixes.shape[0]):\n",
    "                matList.append(filt.go_filter(preMatrixes[i]))\n",
    "        self.matrixes = np.array(matList)\n",
    "    \n"
   ]
  },
  {
   "cell_type": "code",
   "execution_count": 13,
   "metadata": {},
   "outputs": [
    {
     "name": "stdout",
     "output_type": "stream",
     "text": [
      "[[1 1]\n",
      " [1 1]]\n"
     ]
    }
   ],
   "source": [
    "a = Filter([[1,1],[1,1]])\n"
   ]
  },
  {
   "cell_type": "code",
   "execution_count": 14,
   "metadata": {},
   "outputs": [],
   "source": [
    "b = Layer([a])"
   ]
  },
  {
   "cell_type": "code",
   "execution_count": 15,
   "metadata": {},
   "outputs": [
    {
     "data": {
      "text/plain": [
       "array([], shape=(0, 0, 0), dtype=float64)"
      ]
     },
     "execution_count": 15,
     "metadata": {},
     "output_type": "execute_result"
    }
   ],
   "source": [
    "b.get_matrixes()\n"
   ]
  },
  {
   "cell_type": "code",
   "execution_count": 17,
   "metadata": {},
   "outputs": [],
   "source": [
    "b.gen_matrixes(np.array([[[1,2],[3,4]],[[5,6],[7,8]]]))"
   ]
  },
  {
   "cell_type": "code",
   "execution_count": 18,
   "metadata": {},
   "outputs": [
    {
     "data": {
      "text/plain": [
       "array([[[10.]],\n",
       "\n",
       "       [[26.]]])"
      ]
     },
     "execution_count": 18,
     "metadata": {},
     "output_type": "execute_result"
    }
   ],
   "source": [
    "b.get_matrixes()\n"
   ]
  },
  {
   "cell_type": "code",
   "execution_count": null,
   "metadata": {},
   "outputs": [],
   "source": []
  }
 ],
 "metadata": {
  "kernelspec": {
   "display_name": "Python 3",
   "language": "python",
   "name": "python3"
  },
  "language_info": {
   "codemirror_mode": {
    "name": "ipython",
    "version": 3
   },
   "file_extension": ".py",
   "mimetype": "text/x-python",
   "name": "python",
   "nbconvert_exporter": "python",
   "pygments_lexer": "ipython3",
   "version": "3.6.7"
  }
 },
 "nbformat": 4,
 "nbformat_minor": 1
}
