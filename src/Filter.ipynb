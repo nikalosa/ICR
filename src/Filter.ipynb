{
 "cells": [
  {
   "cell_type": "markdown",
   "metadata": {},
   "source": [
    "# Filter Class\n"
   ]
  },
  {
   "cell_type": "code",
   "execution_count": null,
   "metadata": {},
   "outputs": [],
   "source": [
    "import numpy as np\n",
    "\n",
    "class Filter:\n",
    "    \n",
    "    ### constructor takes array which will be filter\n",
    "    def __init__(self, filterM):\n",
    "        self.filter = np.array(filterM)\n",
    "        self.n = self.filter.shape[0]\n",
    "        self.m = self.filter.shape[1]\n",
    "        \n",
    "    ### returns filter\n",
    "    def get_filter(self):\n",
    "        return self.filter\n",
    "    \n",
    "    ### change filter by delta matrix\n",
    "    def add_delta(self, delta):\n",
    "        self.filter += delta\n",
    "\n",
    "    ### set the value of i,j element of the filter \n",
    "    def set(self, i, j, val):\n",
    "        self.filter[i][j] = val\n",
    "\n",
    "    ### returns the value of i,j element\n",
    "    def get(self, i, j):\n",
    "        return self.filter[i][j]\n",
    "\n",
    "    ### takes matrix and returns filtered matrix\n",
    "    def go_filter(self, data):\n",
    "        resultdata = np.zeros((data.shape[0] - self.n + 1, data.shape[1] - self.m + 1))\n",
    "        for i in range(data.shape[0] - self.n + 1):\n",
    "            for j in range(data.shape[1] - self.m + 1):\n",
    "                resultdata[i][j] = np.sum(self.filter * data[i:i+self.n,j:j+self.m])\n",
    "        return resultdata\n",
    "    \n",
    "    ### takes matrix and poolfilter dimension, returns max-pooled matrix\n",
    "    def go_maxpool(self, data, n, m):\n",
    "        resultdata = np.zeros((int(data.shape[0] / n) , int(data.shape[1] / m)))\n",
    "        for i in range(0, data.shape[0], n):\n",
    "            for j in range(0, data.shape[1], m):\n",
    "                print(i,j)\n",
    "                resultdata[int(i/n)][int(j/m)] = np.max(data[i:i+n, j:j+m])\n",
    "                \n",
    "        return resultdata\n"
   ]
  },
  {
   "cell_type": "markdown",
   "metadata": {},
   "source": [
    "# Layer Class"
   ]
  },
  {
   "cell_type": "code",
   "execution_count": 46,
   "metadata": {},
   "outputs": [],
   "source": [
    "\n",
    "class Layer:\n",
    "    ### constructor takes the list of filters \n",
    "    def __init__(self, filters):\n",
    "        self.filters = filters\n",
    "        self.matrixes = [] \n",
    "    \n",
    "    ### returns the i-th filter\n",
    "    def get_filter(self, i):\n",
    "        return self.filters[i]\n",
    "    \n",
    "    ### return the list of filters\n",
    "    def get_filters(self):\n",
    "        return self.filters\n",
    "    \n",
    "    ### generates list of matrixes, from previous layer's matrixes and it's filters\n",
    "    def gen_matrixes(self, preMatrixes):\n",
    "        for filt in self.filters:\n",
    "            for mat in preMatrixes:\n",
    "                self.matrixes.append(filt.go_filter(mat))\n",
    "        \n",
    "        \n",
    "    ### returns i-th matrix of our matrixs' list\n",
    "    def get_matrix(self, i):\n",
    "        return self.matrix[i]\n",
    "    \n",
    "    ### returns list of matrixes\n",
    "    def get_matrixes(self):\n",
    "        return self.matrixes\n",
    "    \n"
   ]
  },
  {
   "cell_type": "markdown",
   "metadata": {},
   "source": [
    "# CNN Class"
   ]
  },
  {
   "cell_type": "code",
   "execution_count": null,
   "metadata": {},
   "outputs": [],
   "source": [
    "class CNN:\n",
    "    ### constructor takes the starting matrix and filters list for each layer\n",
    "    ### layerFilters is 4D list\n",
    "    ### a = CNN(ar, )\n",
    "    def __init__(self, stMatrix, layerFilters):\n",
    "        self.stMatrix = stMatrix\n",
    "        self.layers = []\n",
    "        for layerFilter in layerFilters:\n",
    "            self.layers.append(Layer(layerFilter))\n",
    "    \n",
    "    ### returns all layer objects \n",
    "    def get_layers(self):\n",
    "        return self.layers\n",
    "    \n",
    "    ### returns i-th layer\n",
    "    def get_layer(self, i):\n",
    "        return self.layers[i]\n",
    "        \n",
    "    ### returns flattened np-array for fully connection NL\n",
    "    def forward_prop(self):\n",
    "        matrixList = [self.stMatrix]\n",
    "        for layer in self.layers:\n",
    "            layer.gen_matrixes(matrixList)\n",
    "            matrixList = layer.get_matrixes()\n",
    "            //print(matrixList)\n",
    "        return self.flatten(matrixList)\n",
    "            \n",
    "    ### static method, flattens 3D array\n",
    "    def flatten(self, matrixList):\n",
    "        lst = []\n",
    "        for matrix in matrixList:\n",
    "            print(matrix,matrix.flatten())\n",
    "            lst+=(matrix.flatten().tolist())\n",
    "        return lst\n",
    "        "
   ]
  },
  {
   "cell_type": "code",
   "execution_count": 49,
   "metadata": {},
   "outputs": [
    {
     "name": "stdout",
     "output_type": "stream",
     "text": [
      "[[1 2]\n",
      " [3 4]] [1 2 3 4]\n",
      "[[1 2 3]\n",
      " [3 4 5]] [1 2 3 3 4 5]\n"
     ]
    },
    {
     "data": {
      "text/plain": [
       "[1, 2, 3, 4, 1, 2, 3, 3, 4, 5]"
      ]
     },
     "execution_count": 49,
     "metadata": {},
     "output_type": "execute_result"
    }
   ],
   "source": [
    "cnn = CNN(np.array([[1,2,3,4],[1,2,3,4],[1,2,3,4],[1,2,3,4]]),[[Filter([[1,1],[1,1]])],[Filter([[2,2],[2,2]]),Filter([[3,3],[3,3]])]])\n",
    "print(cnn.forward_prop())\n",
    "#CNN.flatten([np.array([[1,2],[3,4]]),np.array([[1,2,3],[3,4,5]])])"
   ]
  },
  {
   "cell_type": "markdown",
   "metadata": {},
   "source": [
    "# Dance NL Class"
   ]
  },
  {
   "cell_type": "code",
   "execution_count": null,
   "metadata": {},
   "outputs": [],
   "source": [
    "class Dense:\n",
    "    \n",
    "    ### constructor takes parameter's array(flattened array) and answer array(1x10)\n",
    "    def __init__(self, X, Y):\n",
    "        self.X = X\n",
    "        self.Y = Y\n",
    "        self.theta0 = np.random.randn(self.X.size, 64)\n",
    "        self.theta1 = np.random.randn(64, 10)\n",
    "       \n",
    "    def sigmoid(H):\n",
    "        return 1/(1+np.exp(-H))\n",
    "    \n",
    "    def div_sigmoid(H):\n",
    "        return np.exp(-H)/((1+np.exp(-H))**2)\n",
    "    \n",
    "    def forward_prob(self, z0, theta0, theta1):\n",
    "        z1 = np.dot(z0, theta0)\n",
    "        H = np.dot(z1, theta1)\n",
    "        sh = sigmoid(H)\n",
    "        return z1, H, sh\n",
    "    \n",
    "    def backward_prob(self, z0, z1, H, y, theta1, sh):\n",
    "        err = (sh-y)*div_sigmoid(H)\n",
    "        delta_theta1 = np.dot(np.transpose(z1*div_sigmoid(H)),err)\n",
    "        delta_theta0 = np.dot(np.dot(np.transpose(z0),err),np.transpose(theta1))\n",
    "        return delta_theta0, delta_theta1\n",
    "    \n",
    "    def procdure(self, learnRate):\n",
    "        z1, H, sh = forward_prob(X, theta0, theta1)\n",
    "        delta_theta0, delta_theta1 = backward_prob(train, z1, H, y, theta1, sh)\n",
    "\n",
    "        self.theta0 -= delta_theta0\n",
    "        self.theta1 -= delta_theta1\n",
    "            \n",
    "        ### calc beqas loss and return <3\n",
    "\n",
    "        #return theta0, theta1\n",
    "        return r"
   ]
  },
  {
   "cell_type": "code",
   "execution_count": null,
   "metadata": {},
   "outputs": [],
   "source": []
  }
 ],
 "metadata": {
  "kernelspec": {
   "display_name": "Python 3",
   "language": "python",
   "name": "python3"
  },
  "language_info": {
   "codemirror_mode": {
    "name": "ipython",
    "version": 3
   },
   "file_extension": ".py",
   "mimetype": "text/x-python",
   "name": "python",
   "nbconvert_exporter": "python",
   "pygments_lexer": "ipython3",
   "version": "3.6.7"
  }
 },
 "nbformat": 4,
 "nbformat_minor": 1
}
