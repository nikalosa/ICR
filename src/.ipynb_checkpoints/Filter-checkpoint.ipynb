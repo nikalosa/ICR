{
 "cells": [
  {
   "cell_type": "markdown",
   "metadata": {},
   "source": [
    "# Filter Class\n"
   ]
  },
  {
   "cell_type": "code",
   "execution_count": 1,
   "metadata": {},
   "outputs": [],
   "source": [
    "import numpy as np\n",
    "\n",
    "class Filter:\n",
    "    \n",
    "    ### constructor takes array which will be filter\n",
    "    def __init__(self, filterM):\n",
    "        self.filter = np.array(filterM)\n",
    "        self.n = self.filter.shape[0]\n",
    "        self.m = self.filter.shape[1]\n",
    "        \n",
    "    ### returns filter\n",
    "    def get_filter(self):\n",
    "        return self.filter\n",
    "    \n",
    "    ### change filter by delta matrix\n",
    "    def add_delta(self, delta):\n",
    "        self.filter += delta\n",
    "\n",
    "    ### set the value of i,j element of the filter \n",
    "    def set(self, i, j, val):\n",
    "        self.filter[i][j] = val\n",
    "\n",
    "    ### returns the value of i,j element\n",
    "    def get(self, i, j):\n",
    "        return self.filter[i][j]\n",
    "\n",
    "    ### takes matrix and returns filtered matrix\n",
    "    def go_filter(self, data):\n",
    "        resultdata = np.zeros((data.shape[0] - self.n + 1, data.shape[1] - self.m + 1))\n",
    "        for i in range(data.shape[0] - self.n + 1):\n",
    "            for j in range(data.shape[1] - self.m + 1):\n",
    "                resultdata[i][j] = np.sum(self.filter * data[i:i+self.n,j:j+self.m])\n",
    "        return resultdata\n",
    "    \n",
    "    ### takes matrix and poolfilter dimension, returns max-pooled matrix\n",
    "    def go_maxpool(self, data, n, m):\n",
    "        resultdata = np.zeros((int(data.shape[0] / n) , int(data.shape[1] / m)))\n",
    "        for i in range(0, data.shape[0], n):\n",
    "            for j in range(0, data.shape[1], m):\n",
    "                print(i,j)\n",
    "                resultdata[int(i/n)][int(j/m)] = np.max(data[i:i+n, j:j+m])\n",
    "                \n",
    "        return resultdata\n"
   ]
  },
  {
   "cell_type": "markdown",
   "metadata": {},
   "source": [
    "# Layer Class"
   ]
  },
  {
   "cell_type": "code",
   "execution_count": 2,
   "metadata": {},
   "outputs": [],
   "source": [
    "\n",
    "class Layer:\n",
    "    ### constructor takes the list of filters \n",
    "    def __init__(self, filters):\n",
    "        self.filters = filters\n",
    "        self.matrixes = [] \n",
    "    \n",
    "    ### returns the i-th filter\n",
    "    def get_filter(self, i):\n",
    "        return self.filters[i]\n",
    "    \n",
    "    ### return the list of filters\n",
    "    def get_filters(self):\n",
    "        return self.filters\n",
    "    \n",
    "    ### generates list of matrixes, from previous layer's matrixes and it's filters\n",
    "    def gen_matrixes(self, preMatrixes):\n",
    "        for filt in self.filters:\n",
    "            for mat in preMatrixes:\n",
    "                self.matrixes.append(filt.go_filter(mat))\n",
    "        \n",
    "        \n",
    "    ### returns i-th matrix of our matrixs' list\n",
    "    def get_matrix(self, i):\n",
    "        return self.matrix[i]\n",
    "    \n",
    "    ### returns list of matrixes\n",
    "    def get_matrixes(self):\n",
    "        return self.matrixes\n",
    "    \n"
   ]
  },
  {
   "cell_type": "markdown",
   "metadata": {},
   "source": [
    "# CNN Class"
   ]
  },
  {
   "cell_type": "code",
   "execution_count": 3,
   "metadata": {},
   "outputs": [],
   "source": [
    "class CNN:\n",
    "    ### constructor takes the starting matrix and filters list for each layer\n",
    "    ### layerFilters is 4D list\n",
    "    ### a = CNN(ar, )\n",
    "    def __init__(self, stMatrix, layerFilters):\n",
    "        self.stMatrix = stMatrix\n",
    "        self.layers = []\n",
    "        for layerFilter in layerFilters:\n",
    "            self.layers.append(Layer(layerFilter))\n",
    "    \n",
    "    ### returns all layer objects \n",
    "    def get_layers(self):\n",
    "        return self.layers\n",
    "    \n",
    "    ### returns i-th layer\n",
    "    def get_layer(self, i):\n",
    "        return self.layers[i]\n",
    "        \n",
    "    ### returns flattened np-array for fully connection NL\n",
    "    def forward_prop(self):\n",
    "        matrixList = [self.stMatrix]\n",
    "        for layer in self.layers:\n",
    "            layer.gen_matrixes(matrixList)\n",
    "            matrixList = layer.get_matrixes()\n",
    "#             print(matrixList)\n",
    "        return self.flatten(matrixList)\n",
    "            \n",
    "    ### static method, flattens 3D array\n",
    "    def flatten(self, matrixList):\n",
    "        lst = []\n",
    "        for matrix in matrixList:\n",
    "            print(matrix,matrix.flatten())\n",
    "            lst+=(matrix.flatten().tolist())\n",
    "        return lst\n",
    "    def backward(self, delta_x):\n",
    "        pass\n",
    "        \n",
    "    "
   ]
  },
  {
   "cell_type": "code",
   "execution_count": 4,
   "metadata": {},
   "outputs": [],
   "source": [
    "# cnn = CNN(np.array[np.random.randn(4,4)],[[Filter([[1,1],[1,1]])]])\n",
    "# print(cnn.forward_prop())\n",
    "# #CNN.flatten([np.array([[1,2],[3,4]]),np.array([[1,2,3],[3,4,5]])])\n",
    "\n"
   ]
  },
  {
   "cell_type": "markdown",
   "metadata": {},
   "source": [
    "# Dance NL Class"
   ]
  },
  {
   "cell_type": "code",
   "execution_count": 5,
   "metadata": {},
   "outputs": [],
   "source": [
    "class Dense:\n",
    "    \n",
    "    ### constructor takes parameter's array(flattened array) and answer array(1x10)\n",
    "    def __init__(self, X, Y):\n",
    "        self.X = X\n",
    "        self.Y = Y\n",
    "        self.W0 = np.random.randn(self.X.size, 64)\n",
    "        self.W1 = np.random.randn(64, 10)\n",
    "#         print(X.shape)\n",
    "#         print(Y.shape)\n",
    "#         print(self.theta0.shape)\n",
    "#         print(self.theta1.shape)\n",
    "       \n",
    "        # just return e^(-z)\n",
    "    def my_exp(self,z):\n",
    "        return np.exp(-z)\n",
    "\n",
    "        # our zigmoid function\n",
    "    def zigmoid_function(self,z):\n",
    "        return 1/(1 + self.my_exp(z))\n",
    "\n",
    "        # ferivative of our zigmoid function\n",
    "    def derivative_zigmoid(self,z):\n",
    "        return self.my_exp(z) / np.power((1 + self.my_exp(z)), 2)\n",
    "    \n",
    "    # our fucntion doing feed forward alghoritm.\n",
    "    def feed_forward(self,X, W0, W1):\n",
    "        h0 = np.dot(X, W0)  # our first matrix after using first hidden layer W0\n",
    "    #     h0 = zigmoid_function(h0)  # our first matrix using zigmoid.\n",
    "\n",
    "        h1 = np.dot(h0, W1) # our result after using second hidden layer W1\n",
    "        h1 = self.zigmoid_function(h1) # our result matrix after using zigmoid.\n",
    "        return h0, h1 # return result.\n",
    "    \n",
    "    # compute our error which is h1-y but we also take into consideration the zigmoid function.\n",
    "    def my_error(self,h1):\n",
    "        error = h1 - self.Y\n",
    "        return error\n",
    "\n",
    "    def costfn(self,h1):\n",
    "        error = self.my_error(h1)\n",
    "        my_sum = np.sum(abs(error))\n",
    "        return my_sum/len(error)\n",
    "\n",
    "\n",
    "    def backward(self,X, W0, W1, h1, h0, alfa_rate):\n",
    "        # firstly lets compute error h1-y\n",
    "        error = self.my_error(h1)\n",
    "        bla_W1 = W1\n",
    "        # first lets update W1 which is far easier W1 = (h0)T *(h1 - Y)\n",
    "        transpose_h0 = np.transpose(h0)\n",
    "        error = error * self.derivative_zigmoid(h1)\n",
    "\n",
    "        # now lets update W0 too which is bit complex.\n",
    "        # W0 = XT.(ERROR).W1T\n",
    "        transpose_X = np.transpose(X)\n",
    "        transpose_W1 = np.transpose(bla_W1)\n",
    "\n",
    "\n",
    "        first_step = np.dot(error, transpose_W1)\n",
    "        second_step = np.dot(transpose_X, first_step)\n",
    "        delta_x = np.dot(error, np.transpose(np.dot(self.W0, self.W1)))\n",
    "        W0-=second_step*alfa_rate\n",
    "        W1 -= np.dot (transpose_h0, error)*alfa_rate\n",
    "        return delta_x\n",
    "    def predict(self):\n",
    "        h0, h1 = self.feed_forward(self.X, self.W0, self.W1)\n",
    "        delta_x = self.backward(self.X, self.W0, self.W1, h1, h0,0.00001)\n",
    "        return delta_x\n",
    "#         return None"
   ]
  },
  {
   "cell_type": "code",
   "execution_count": 6,
   "metadata": {},
   "outputs": [],
   "source": [
    "############## LETS INITIALIZE OUR LAYERS AND FILTERS\n",
    "X = np.random.randn(10,10)\n",
    "Y = [[1,0,0,0,0,0,0,0,0,0]]\n",
    "Y=np.array(Y)\n",
    "learning_rate = 0.07\n",
    "# here we will initialize first layer filters\n",
    "first_layer_filter = Filter(np.random.randn(5,5))\n",
    "first_layer_filters = []\n",
    "first_layer_filters.append(first_layer_filter)\n",
    "\n",
    "# here we will initialize second layer filters\n",
    "second_layer_filter = Filter(np.random.randn(3,3))\n",
    "second_layer_filters = []\n",
    "second_layer_filters.append(second_layer_filter)\n",
    "\n",
    "# here we will initialize second layer filters\n",
    "filter_array = []\n",
    "filter_array.append(first_layer_filters)\n",
    "filter_array.append(second_layer_filters)"
   ]
  },
  {
   "cell_type": "code",
   "execution_count": 7,
   "metadata": {},
   "outputs": [],
   "source": [
    "##### lets initialize CNN class\n",
    "cnn = CNN(X,filter_array)"
   ]
  },
  {
   "cell_type": "code",
   "execution_count": 8,
   "metadata": {},
   "outputs": [
    {
     "name": "stdout",
     "output_type": "stream",
     "text": [
      "[[-10.5337005  -23.43228227  -2.53128307   9.31846284]\n",
      " [-38.93106792 -14.72699675 -10.21226812  -3.12195409]\n",
      " [ 15.57659781  17.47544835   3.74745654 -20.61312181]\n",
      " [ 20.3585739   -1.11042695  -1.3360337   -3.83537373]] [-10.5337005  -23.43228227  -2.53128307   9.31846284 -38.93106792\n",
      " -14.72699675 -10.21226812  -3.12195409  15.57659781  17.47544835\n",
      "   3.74745654 -20.61312181  20.3585739   -1.11042695  -1.3360337\n",
      "  -3.83537373]\n"
     ]
    }
   ],
   "source": [
    "### this method goes cnn part till flattened array.\n",
    "flatten_array = np.array(cnn.forward_prop())\n",
    "flatten_array = np.reshape(np.array(flatten_array), (flatten_array.shape[0],1))\n",
    "###now lets start with dense class to work with neural network.\n",
    "dense_class = Dense(np.transpose(flatten_array),Y)\n",
    "delta_x = dense_class.predict()"
   ]
  },
  {
   "cell_type": "code",
   "execution_count": 9,
   "metadata": {},
   "outputs": [
    {
     "data": {
      "text/plain": [
       "20.358573898374274"
      ]
     },
     "execution_count": 9,
     "metadata": {},
     "output_type": "execute_result"
    }
   ],
   "source": [
    "np.max(flatten_array)"
   ]
  },
  {
   "cell_type": "code",
   "execution_count": 10,
   "metadata": {},
   "outputs": [
    {
     "data": {
      "text/plain": [
       "array([[ 0.2028509 , -3.43585487,  0.41578082, -2.18121444, -9.38041263,\n",
       "        -2.00027638, -5.51505755, -0.8625179 , -1.3217145 , -3.75315309,\n",
       "        -4.33160098, -0.60889619,  0.49092317,  0.93251807,  2.30899386,\n",
       "         3.11883264]])"
      ]
     },
     "execution_count": 10,
     "metadata": {},
     "output_type": "execute_result"
    }
   ],
   "source": [
    "delta_x"
   ]
  },
  {
   "cell_type": "code",
   "execution_count": null,
   "metadata": {},
   "outputs": [],
   "source": []
  }
 ],
 "metadata": {
  "kernelspec": {
   "display_name": "Python 3",
   "language": "python",
   "name": "python3"
  },
  "language_info": {
   "codemirror_mode": {
    "name": "ipython",
    "version": 3
   },
   "file_extension": ".py",
   "mimetype": "text/x-python",
   "name": "python",
   "nbconvert_exporter": "python",
   "pygments_lexer": "ipython3",
   "version": "3.6.7"
  }
 },
 "nbformat": 4,
 "nbformat_minor": 1
}
